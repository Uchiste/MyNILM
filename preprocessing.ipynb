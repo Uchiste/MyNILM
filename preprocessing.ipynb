{
 "cells": [
  {
   "cell_type": "code",
   "execution_count": 1,
   "metadata": {},
   "outputs": [
    {
     "name": "stderr",
     "output_type": "stream",
     "text": [
      "/usr/lib/python3/dist-packages/requests/__init__.py:89: RequestsDependencyWarning: urllib3 (1.26.8) or chardet (3.0.4) doesn't match a supported version!\n",
      "  warnings.warn(\"urllib3 ({}) or chardet ({}) doesn't match a supported \"\n"
     ]
    }
   ],
   "source": [
    "import pandas as pd\n",
    "import datetime as dt\n",
    "import math as mt\n",
    "import sklearn as skl\n",
    "import tensorflow as tf\n",
    "import matplotlib.pyplot as plt\n",
    "import numpy as np"
   ]
  },
  {
   "cell_type": "code",
   "execution_count": 2,
   "metadata": {},
   "outputs": [],
   "source": [
    "file_x_train = './data/X_train.csv'\n",
    "file_y_train = './data/y_train.csv'\n",
    "file_x_test = './data/X_test.csv'"
   ]
  },
  {
   "cell_type": "code",
   "execution_count": 3,
   "metadata": {},
   "outputs": [],
   "source": [
    "X_train_data = pd.read_csv(file_x_train, sep=',')\n",
    "Y_train_data = pd.read_csv(file_y_train, sep=',')\n",
    "X_test_data = pd.read_csv(file_x_test, sep=',')"
   ]
  },
  {
   "cell_type": "code",
   "execution_count": 4,
   "metadata": {},
   "outputs": [],
   "source": [
    "X_train_data=X_train_data.drop(['Unnamed: 9'],axis=1)\n",
    "\n",
    "def f(x):\n",
    "    x=x.split(':')\n",
    "    x[0]=x[0].split('T')[-1]\n",
    "    x=60*int(x[0])+int(x[1])\n",
    "    return(x)"
   ]
  },
  {
   "cell_type": "code",
   "execution_count": 5,
   "metadata": {},
   "outputs": [],
   "source": [
    "def traitementnan(vx):\n",
    "    x=vx.copy()\n",
    "    l=x.shape[0]\n",
    "    S_point=0\n",
    "    temp=0\n",
    "    val=0\n",
    "    for i in range(l):\n",
    "        if (not (x[i]!=x[i])):\n",
    "            temp=i\n",
    "            val=x[i]\n",
    "            for j in range(S_point,temp):\n",
    "                x[j]=val\n",
    "            S_point=i\n",
    "    if (x[l-1]!=x[l-1]):\n",
    "        for i in range(S_point,l):\n",
    "            x[i]=val\n",
    "    return x"
   ]
  },
  {
   "cell_type": "code",
   "execution_count": 6,
   "metadata": {},
   "outputs": [],
   "source": [
    "def traitementallcolumn(X):\n",
    "    for c in X.columns.tolist():\n",
    "        X[c]=traitementnan(X[c])\n",
    "    return X"
   ]
  },
  {
   "cell_type": "code",
   "execution_count": 7,
   "metadata": {},
   "outputs": [],
   "source": [
    "def clean_na(X_train_data,Y_train_data):\n",
    "    Y_train_data=Y_train_data.drop(['time_step'],axis=1)\n",
    "    temp = pd.concat([X_train_data, Y_train_data],axis=1)\n",
    "    temp['time_step']=temp['time_step'].apply(f)\n",
    "\n",
    "\n",
    "    temp=temp.dropna(axis=0)\n",
    "    \n",
    "    X = temp.drop(['washing_machine','fridge_freezer','TV','kettle'],axis=1)\n",
    "    Y = temp.drop(['consumption','visibility','temperature','humidity','humidex','windchill','wind','pressure'],axis=1)\n",
    "    return(X, Y)"
   ]
  },
  {
   "cell_type": "code",
   "execution_count": 8,
   "metadata": {},
   "outputs": [],
   "source": [
    "def traitement_outliers(X_train_data,Y_train_data,threshold=3):\n",
    "    m = np.mean(X_train_data['consumption'])\n",
    "    std = np.std(X_train_data['consumption'])\n",
    "    X_train_clear = X_train_data[X_train_data[\"consumption\"] < threshold*std + m]\n",
    "    Y_train_clear = Y_train_data[X_train_data[\"consumption\"] < threshold*std + m]\n",
    "    return X_train_clear,Y_train_clear\n",
    "\n",
    "def normalisation(X,Y):\n",
    "    Xstock=[X['consumption'].mean(),X['consumption'].std()]\n",
    "    Ystock=[[Y['washing_machine'].mean(),Y['washing_machine'].std()],\n",
    "           [Y['fridge_freezer'].mean(),Y['fridge_freezer'].std()],\n",
    "           [Y['TV'].mean(),Y['TV'].std()],\n",
    "           [Y['kettle'].mean(),Y['kettle'].std()]]\n",
    "    \n",
    "    \n",
    "    X['consumption']=(X['consumption']-Xstock[0])/Xstock[1]\n",
    "    Y['washing_machine']=(Y['washing_machine']-Ystock[0][0])/Ystock[0][1]\n",
    "    Y['fridge_freezer']=(Y['fridge_freezer']-Ystock[1][0])/Ystock[1][1]\n",
    "    Y['TV']=(Y['TV']-Ystock[2][0])/Ystock[2][1]\n",
    "    Y['kettle']=(Y['kettle']-Ystock[3][0])/Ystock[3][1]\n",
    "    return(Xstock,Ystock,X,Y)"
   ]
  },
  {
   "cell_type": "code",
   "execution_count": 9,
   "metadata": {},
   "outputs": [],
   "source": [
    "def overlap(X_train_data):\n",
    "    s=X_train_data.shape\n",
    "    i=509\n",
    "    j=0\n",
    "    while (i<s[0]+j):\n",
    "        temp=X_train_data[i-30:i+1].copy()\n",
    "        temp2=pd.concat([X_train_data[0:i+1],temp],axis=0)\n",
    "        X_train_data=pd.concat([temp2,X_train_data[i+1:]],axis=0)\n",
    "        i=i+510\n",
    "        j=+30\n",
    "    return X_train_data\n",
    "\n",
    "def preprocessing(X,Y):\n",
    "    traitementallcolumn(X) #reset visibility, temperature, etc\n",
    "    X_train_data_cleared,Y_train_data_cleared=clean_na(X_train_data, Y_train_data) #clean nan data\n",
    "    X_train_data_cleared,Y_train_data_cleared=traitement_outliers(X_train_data_cleared, Y_train_data_cleared) #clean outliers\n",
    "    X_train_data_cleared = overlap(X_train_data_cleared) #duplicate some data not to loose data because of the way the algorithm works\n",
    "    Xstock, Ystock, X, Y=normalisation(X_train_data_cleared,Y_train_data_cleared) #standardisation\n",
    "    return(Xstock, Ystock, X, Y)"
   ]
  },
  {
   "cell_type": "code",
   "execution_count": 10,
   "metadata": {
    "scrolled": true
   },
   "outputs": [
    {
     "name": "stdout",
     "output_type": "stream",
     "text": [
      "[[4.8696637763987605, 44.934154105564495], [49.50874420778702, 52.76751751631555], [14.38747327694926, 17.24908124832397], [2.45964920403363, 72.30863823755402]]  1\n",
      "[[4.8696637763987605, 44.934154105564495], [49.50874420778702, 52.76751751631555], [14.38747327694926, 17.24908124832397], [2.45964920403363, 72.30863823755402]]  2\n",
      "[[4.8696637763987605, 44.934154105564495], [49.50874420778702, 52.76751751631555], [14.38747327694926, 17.24908124832397], [2.45964920403363, 72.30863823755402]]  1\n"
     ]
    }
   ],
   "source": [
    "Xstock,Ystock,X,Y=preprocessing(X_train_data,Y_train_data)\n",
    "X=X.drop(['visibility','humidity','humidex','windchill','wind','pressure'],axis=1)\n",
    "Y=Y.drop(['time_step'],axis=1)"
   ]
  }
 ],
 "metadata": {
  "kernelspec": {
   "display_name": "Python 3",
   "language": "python",
   "name": "python3"
  },
  "language_info": {
   "codemirror_mode": {
    "name": "ipython",
    "version": 3
   },
   "file_extension": ".py",
   "mimetype": "text/x-python",
   "name": "python",
   "nbconvert_exporter": "python",
   "pygments_lexer": "ipython3",
   "version": "3.8.10"
  }
 },
 "nbformat": 4,
 "nbformat_minor": 4
}
